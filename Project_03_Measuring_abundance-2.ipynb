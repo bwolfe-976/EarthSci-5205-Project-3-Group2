{
 "cells": [
  {
   "cell_type": "code",
   "execution_count": 1,
   "metadata": {},
   "outputs": [],
   "source": [
    "import numpy as np\n",
    "import matplotlib.pyplot as plt\n",
    "import astropy.io.ascii "
   ]
  },
  {
   "cell_type": "markdown",
   "metadata": {},
   "source": [
    "## Sodium 5890 and 5896 doublet arises from the 3p - 3s transition:\n",
    "<img src=\"http://hyperphysics.phy-astr.gsu.edu/hbase/quantum/imgqua/Nadoub.gif\" width=\"200 pt\">\n"
   ]
  },
  {
   "cell_type": "markdown",
   "metadata": {},
   "source": [
    "## Solar spectrum is from: http://bass2000.obspm.fr/solar_spect.php"
   ]
  },
  {
   "cell_type": "code",
   "execution_count": 3,
   "metadata": {},
   "outputs": [],
   "source": [
    "spec = astropy.io.ascii.read(\"solar_spectrum.txt\")"
   ]
  },
  {
   "cell_type": "code",
   "execution_count": 5,
   "metadata": {},
   "outputs": [
    {
     "data": {
      "text/plain": [
       "Text(0, 0.5, 'Normalized Flux')"
      ]
     },
     "execution_count": 5,
     "metadata": {},
     "output_type": "execute_result"
    },
    {
     "data": {
      "image/png": "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\n",
      "text/plain": [
       "<Figure size 432x288 with 1 Axes>"
      ]
     },
     "metadata": {
      "needs_background": "light"
     },
     "output_type": "display_data"
    }
   ],
   "source": [
    "plt.plot(spec[\"col1\"], spec[\"col2\"] / 1e4)\n",
    "# plt.vlines(5887.5, 0, 10000, color=\"red\")\n",
    "# plt.vlines(5892.5, 0, 10000, color=\"red\")\n",
    "plt.vlines(5887.5, 0, 1, color=\"red\")\n",
    "plt.vlines(5892.5, 0, 1, color=\"red\")\n",
    "plt.xlim(5885, 5900)\n",
    "plt.xlabel(\"Wavelength [Angstrom]\")\n",
    "plt.ylabel(\"Normalized Flux\")\n",
    "\n",
    "\n",
    "#questions: do the red lines represent bounds for 1 element to detect (Sodium?) not sure what they show"
   ]
  },
  {
   "cell_type": "markdown",
   "metadata": {},
   "source": [
    "##http://spiff.rit.edu/classes/phys370/lectures/sodium/sodium.html"
    "##^tutorial on how to do the next question"
    "## Equivalent width (ew) is defined as the width of a rectangle with a height equal to that of continuum emission such that the area of the rectangle is equal to the area in the spectral line."
    "##we defined the equivalent width of a line as the integrated area 'above the curve' of an absorption line."
   ]
  },
  {
   "cell_type": "code",
   "execution_count": 7,
   "metadata": {},
   "outputs": [
    {
     "name": "stdout",
     "output_type": "stream",
     "text": [
      "equivalent width (ew) =  0.8346720000182191  Angstrom\n"
     ]
    }
   ],
   "source": [
    "#the descriptin above is a little confusin not sure if i understand fully what ew represents? is it the width that we find the \n",
    "#absorption line? So the red lines are the bounds\n",
    "ind = np.where((spec[\"col1\"] < 5892.5) & (spec[\"col1\"] > 5887.5))\n",
    "inc = np.median(np.diff(spec[\"col1\"][ind]))\n",
    "ew = np.sum(1e4 - spec[\"col2\"][ind]) * inc / 1e4\n",
    "print(\"equivalent width (ew) = \", ew, \" Angstrom\")"
   ]
  },
  {
   "cell_type": "code",
   "execution_count": 11,
   "metadata": {},
   "outputs": [
    {
     "data": {
      "text/plain": [
       "-3.8510372024110278"
      ]
     },
     "execution_count": 11,
     "metadata": {},
     "output_type": "execute_result"
    }
   ],
   "source": [
    "np.log10(0.83 / 5890.0)\n",
    "#im not sure what this represents? this is the log of the ew over the point where we see the peak of the absorption line\n",
    "#y axis for chart below"
   ]
  },
  {
   "cell_type": "markdown",
   "metadata": {},
   "source": [
    "## Now find the number of Na atoms in absorbing state based on the following curve of growth plot:\n",
    "<img src=\"http://spiff.rit.edu/classes/phys440/lectures/curve/gcurve.jpg\" width=\"600 pt\">"
   ]
  },
  {
   "cell_type": "code",
   "execution_count": 12,
   "metadata": {},
   "outputs": [
    {
     "data": {
      "text/plain": [
       "8.240268309784437"
      ]
     },
     "execution_count": 12,
     "metadata": {},
     "output_type": "execute_result"
    }
   ],
   "source": [
    "10**14.8 / 0.65 / (5890 / 5000) / 1e14\n",
    "\n",
    "#atoms in absorbing state 10^(logNf(l/5000))/f/(lambdapeak/5000)/1e14 \n",
    "#Nf(lamda/5000)/f*5000/lambda)/1e14 \n",
    "#in this way 5000 cancels, f cancels, lambda cancels, and we are left with N/1e14\n",
    "\n",
    "#lambda = absorption wavelength [angstrom] (here around 5890)\n",
    "#f=oscillator strength at lambda (here around 0.65)\n",
    "#log(Nf(lam/5000))is the x axis value so we only know it as a number (around 14.8) this is why we need to solve for N\n"
   ]
  },
  {
   "cell_type": "markdown",
   "metadata": {},
   "source": [
    "## log(W/$\\lambda$) = log(0.83 / 5890) = -3.85, where W is equivalent width.\n",
    "## The corresponding value on x-axis is log(Nf($\\lambda/5000\\overset{\\circ}{A}$))$\\sim$14.8.\n",
    "## Rearranged, we have N = $8.24\\times10^{14}$ with the unit of atoms/cm$^2$, assuming f = 0.65, where f is the oscillator strength for this transition at 5890 $\\overset{\\circ}{A}$."
   ]
  },
  {
   "cell_type": "code",
   "execution_count": null,
   "metadata": {},
   "outputs": [],
   "source": [
    "#does this N represent the 3s or 3p state? i think 3p because it transfers 3p-> 3s"
   ]
  },
  {
   "cell_type": "markdown",
   "metadata": {},
   "source": [
    "## A good tutorial of Boltzmann and Saha equation can be found here: \n",
    "http://personal.psu.edu/rbc3/A501/saha.pdf\n",
    "\n",
    "http://faculty.tamuc.edu/cbertulani/ast/lectures/Lec7.pdf\n",
    "\n",
    "http://people.physics.tamu.edu/belyanin/astr314/lecture8.pdf"
   ]
  },
  {
   "cell_type": "code",
   "execution_count": null,
   "metadata": {},
   "outputs": [],
   "source": [
    "#steps for question 1: repeat above using lambda = 5896 angstrom (can be seen on plot) to get the number for the other state\n",
    "#not sure yet how to find the energy, but i will think on it. \n",
    "\n",
    "#question 2: will have to figure out which ones represent neutral sodium and ionized or if we have to repeat calculations\n"
   ]
  },
  {
   "cell_type": "markdown",
   "metadata": {},
   "source": [
    "## Questions:\n",
    "## 1, Estimate the ratio of sodium atoms in the ground state to sodium atoms in excited states using the Boltzmann equation:\n",
    "\n",
    "## $\\frac{N_2}{N_1} = \\frac{g_2}{g_1}\\exp\\left({-\\frac{E_2 - E_1}{kT}}\\right)$, where subscripts 1 and 2 refer to 3s and 3p states, $N$ is number density, $g$ is the number of separate, individual states that are degenerate in energy, $E$ is energy at the state, $k$ is Boltzmann constant, and $T$ is temperature.\n",
    "\n",
    "## 2, Estimate the ratio of neutral sodium atoms to ionized sodium atoms. You will use the Saha equation:\n",
    "\n",
    "## $\\frac{Na_{II}}{Na_{I}} = \\frac{2kT}{P_e} \\frac{Z_{II}}{Z_I} \\left(\\frac{2\\pi m_e kT}{h^2}\\right)^{3/2}\\exp{\\left(-\\frac{\\chi}{kT}\\right)}$, where $m_e$ is electron mass, partition function $Z_I = 2.4$ and  $Z_{II} = 1.0$, electron pressure $P_e = n_e kT = 1.0 N\\cdot m^{-2}$, and the ionization energy $\\chi = 5.1$ eV. Note that the values given are for the sodium line only. Other lines have different values. \n",
    "\n",
    "## 3, Compute the total column density of sodium atoms in the sun's photosphere, assuming the total number of sodium atoms equals to: $N_{1} \\times (1+\\frac{N_2}{N_1}) \\times (1+\\frac{Na_{II}}{Na_{I}}$). $N_1$ is measured from the curve of growth. The last two terms have been calculated in question 1 and 2. \n",
    "\n",
    "## 4, The column density of hydrogen atoms is about $6.6\\times10^{23}$; what is the abundance of sodium relative to hydrogen?"
   ]
  },
  {
   "cell_type": "markdown",
   "metadata": {},
   "source": [
    "## In astronomers' term, we set log relative abundance for Hydrogen at 12. Abundances of other elements are expressed as: $12 + log_{10}(N_{element}/N_{H})$, where N is in mole or number density. For example, in solar atmosphere, $N_{He}/N_{H}\\sim1/10$ and therefore log abundance for He is $\\sim$11. More precisely, 10.93 according to: https://par.nsf.gov/servlets/purl/10036398.  "
   ]
  },
  {
   "cell_type": "markdown",
   "metadata": {},
   "source": [
    "## \\*\\*\\*Bonus***: try a different line from a different element, e.g., Mg, Si, or Fe, and see how close you can get to the solar value and explain the difference. "
   ]
  },
  {
   "cell_type": "markdown",
   "metadata": {},
   "source": [
    "## Further reading: \n",
    "## 1, Formation of Sodium lines in solar spectrum: https://www.chem.uci.edu/~unicorn/249/Handouts/RWFSodium.pdf\n",
    "## 2, Nomenclature of electron energy levels: https://www.dummies.com/education/science/chemistry/how-to-represent-electrons-in-an-energy-level-diagram/\n",
    "\n",
    "## https://www.chemicool.com/definition/degenerate.html\n",
    " \n",
    "## Saha equation: https://www.youtube.com/watch?v=MFqrF2izvgs"
   ]
  },
  {
   "cell_type": "markdown",
   "metadata": {},
   "source": [
    "## Please refrain from reading the solution here: http://spiff.rit.edu/classes/phys440/lectures/curve/curve.html"
   ]
  },
  {
   "cell_type": "code",
   "execution_count": 1,
   "metadata": {},
   "outputs": [],
   "source": [
    "import JW_lib\n",
    "import numpy as np\n",
    "import matplotlib.pyplot as plt"
   ]
  },
  {
   "cell_type": "code",
   "execution_count": 2,
   "metadata": {},
   "outputs": [],
   "source": [
    "a = JW_lib.PhoenixSpec(file_name=\"/Users/wang.12220/Downloads/lte058.0-4.5-0.0a+0.0.BT-Settl.spec.fits\")\n",
    "spec = a.readPHOENIXSpec()"
   ]
  },
  {
   "cell_type": "code",
   "execution_count": 7,
   "metadata": {},
   "outputs": [],
   "source": [
    "%matplotlib inline\n",
    "spec = spec.getChunk(0.5, 0.6)\n"
   ]
  },
  {
   "cell_type": "code",
   "execution_count": 11,
   "metadata": {},
   "outputs": [
    {
     "data": {
      "text/plain": [
       "[<matplotlib.lines.Line2D at 0x1a2946e2e8>]"
      ]
     },
     "execution_count": 11,
     "metadata": {},
     "output_type": "execute_result"
    },
    {
     "data": {
      "image/png": "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\n",
      "text/plain": [
       "<Figure size 432x288 with 1 Axes>"
      ]
     },
     "metadata": {
      "needs_background": "light"
     },
     "output_type": "display_data"
    }
   ],
   "source": [
    "spec_mg = spec.getChunk(0.5160, 0.5180)\n",
    "spec_mg.wavelength = spec_mg.wavelength * 1e4\n",
    "spec_mg.flux = spec_mg.flux / np.max(spec_mg.flux)\n",
    "plt.plot(spec_mg.wavelength, spec_mg.flux)\n"
   ]
  },
  {
   "cell_type": "code",
   "execution_count": 13,
   "metadata": {},
   "outputs": [],
   "source": [
    "spec_mg.writeSpec(file_name=\"Mg5168.txt\")"
   ]
  },
  {
   "cell_type": "code",
   "execution_count": null,
   "metadata": {},
   "outputs": [],
   "source": []
  }
 ],
 "metadata": {
  "kernelspec": {
   "display_name": "Python 3.8 (py38)",
   "language": "python",
   "name": "py38"
  },
  "language_info": {
   "codemirror_mode": {
    "name": "ipython",
    "version": 3
   },
   "file_extension": ".py",
   "mimetype": "text/x-python",
   "name": "python",
   "nbconvert_exporter": "python",
   "pygments_lexer": "ipython3",
   "version": "3.8.5"
  }
 },
 "nbformat": 4,
 "nbformat_minor": 4
}
